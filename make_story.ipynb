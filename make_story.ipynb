{
 "cells": [
  {
   "cell_type": "code",
   "execution_count": 9,
   "metadata": {},
   "outputs": [],
   "source": [
    "TITLE = \"The Curious Case of the Silenced Soprano\"\n",
    "DIFFICULTY = \"easy\"\n",
    "MYSTERY = \"\"\"\n",
    "It was a crisp autumn evening when Sherlock Holmes and I were summoned to the Belgravia Opera House. The renowned soprano, Madame Eliza Thornberry, had been found dead in her dressing room just moments before her highly anticipated performance.\n",
    "Upon our arrival, Inspector Lestrade briefed us on the situation. \"Madame Thornberry was discovered by her assistant, lying face-down on her dressing table. The cause of death appears to be strangulation.\"\n",
    "Holmes surveyed the room with his keen eye. \"Tell me, Lestrade, who had access to this room?\"\n",
    "\"Well, there were three individuals besides the victim herself,\" Lestrade replied. \"First, we have Mr. Jonathan Reed, Madame Thornberry's understudy. Then there's Miss Clara Wilson, her personal assistant. And finally, Mr. Harold Blackwood, the opera house manager.\"\n",
    "We began our investigation by interviewing the suspects. Mr. Reed, a tall man with a nervous demeanor, was first. \"I was in the wings, preparing for my own performance,\" he stated. \"Madame Thornberry and I were to sing a duet in the second act.\"\n",
    "Miss Wilson, a petite woman with red hair, spoke next. \"I was running errands for Madame Thornberry all evening. I only returned to her room to call her for the performance when I found her... like that.\"\n",
    "Mr. Blackwood, a portly gentleman with a handlebar mustache, seemed genuinely distraught. \"I was in my office, dealing with last-minute ticket sales. This is a disaster for the opera house!\"\n",
    "As Holmes examined the crime scene, he noticed several curious details. A half-empty glass of water sat on the dressing table, lipstick smeared on its rim. A crumpled piece of paper lay in the wastepaper basket. Most intriguingly, a single long, black feather was found on the floor near the body.\n",
    "\"Watson,\" Holmes mused, \"what do you make of this feather?\"\n",
    "I examined it closely. \"It appears to be from a stage costume, perhaps?\"\n",
    "Holmes nodded thoughtfully. \"Indeed. Now, let us delve deeper into our suspects' stories.\"\n",
    "Further questioning revealed that Mr. Reed had long coveted Madame Thornberry's leading role. Miss Wilson admitted to a recent argument with her employer over a pay raise. Mr. Blackwood disclosed that ticket sales had been declining, and Madame Thornberry's exorbitant fees were becoming a financial burden.\n",
    "As the night wore on, Holmes pieced together the puzzle. He called everyone to gather in the dressing room.\n",
    "\"Ladies and gentlemen, I believe I have solved this tragic mystery,\" Holmes announced. \"The culprit is none other than Mr. Jonathan Reed.\"\n",
    "Gasps filled the room as all eyes turned to the understudy, who had gone pale.\n",
    "\"Allow me to explain,\" Holmes continued. \"Mr. Reed, in your haste to dispose of evidence, you overlooked a crucial detail. The feather found near the body matches those on your costume for tonight's performance. You visited Madame Thornberry under the pretense of discussing the upcoming duet, but your true intention was far more sinister.\"\n",
    "\"You brought her a glass of water, laced with a mild sedative to weaken her resistance. The lipstick on the glass confirms she drank from it. Once the sedative took effect, you strangled her with the cord from her dressing gown, which is conspicuously missing.\"\n",
    "\"The crumpled note in the wastepaper basket, which I managed to piece together, was a threat from you to Madame Thornberry, demanding she step down from her role. When she refused, you took matters into your own hands, seeing an opportunity to claim the spotlight for yourself.\"\n",
    "Mr. Reed's face contorted with anguish as he fell to his knees. \"She was going to ruin me!\" he cried. \"I've waited years for my chance, and she was going to have me removed from the company. I... I just couldn't let that happen.\"\n",
    "As Lestrade led the distraught Mr. Reed away, Holmes turned to me with a satisfied smile. \"Another case closed, my dear Watson. Though I must admit, the opera tonight took quite an unexpected turn.\"\n",
    "\"\"\"\n",
    "SUSPECTS = [\"Jonathan Reed\", \"Clara Wilson\", \"Harold Blackwood\"]\n",
    "CULPRIT = \"Jonathan Reed\""
   ]
  },
  {
   "cell_type": "code",
   "execution_count": 10,
   "metadata": {},
   "outputs": [
    {
     "name": "stdout",
     "output_type": "stream",
     "text": [
      "t is none other than\n",
      " Mr. Jonathan Reed.\"\n"
     ]
    }
   ],
   "source": [
    "def find_reveal_index(story):\n",
    "    reveal_phrase = \"The culprit is none other than \"\n",
    "    index = story.find(reveal_phrase)\n",
    "\n",
    "    if index == -1:\n",
    "        return None  # Phrase not found\n",
    "\n",
    "    # Return the index of the space after \"than\"\n",
    "    return index + len(reveal_phrase) - 1\n",
    "\n",
    "REVEAL_INDEX = find_reveal_index(MYSTERY)\n",
    "print(MYSTERY[REVEAL_INDEX-20:REVEAL_INDEX])\n",
    "print(MYSTERY[REVEAL_INDEX:REVEAL_INDEX + 20])\n"
   ]
  },
  {
   "cell_type": "code",
   "execution_count": 11,
   "metadata": {},
   "outputs": [
    {
     "ename": "TypeError",
     "evalue": "create_mystery_json() missing 1 required positional argument: 'reveal_index'",
     "output_type": "error",
     "traceback": [
      "\u001b[0;31m---------------------------------------------------------------------------\u001b[0m",
      "\u001b[0;31mTypeError\u001b[0m                                 Traceback (most recent call last)",
      "Cell \u001b[0;32mIn[11], line 3\u001b[0m\n\u001b[1;32m      1\u001b[0m \u001b[39mfrom\u001b[39;00m \u001b[39msrc\u001b[39;00m\u001b[39m.\u001b[39;00m\u001b[39mcreate_json\u001b[39;00m \u001b[39mimport\u001b[39;00m create_mystery_json\n\u001b[0;32m----> 3\u001b[0m create_mystery_json(TITLE, DIFFICULTY, MYSTERY, SUSPECTS, CULPRIT)\n",
      "\u001b[0;31mTypeError\u001b[0m: create_mystery_json() missing 1 required positional argument: 'reveal_index'"
     ]
    }
   ],
   "source": [
    "from src.create_json import create_mystery_json\n",
    "\n",
    "create_mystery_json(TITLE, DIFFICULTY, MYSTERY, SUSPECTS, CULPRIT, REVEAL_INDEX)"
   ]
  },
  {
   "cell_type": "code",
   "execution_count": null,
   "metadata": {},
   "outputs": [],
   "source": []
  }
 ],
 "metadata": {
  "kernelspec": {
   "display_name": "Python 3",
   "language": "python",
   "name": "python3"
  },
  "language_info": {
   "codemirror_mode": {
    "name": "ipython",
    "version": 3
   },
   "file_extension": ".py",
   "mimetype": "text/x-python",
   "name": "python",
   "nbconvert_exporter": "python",
   "pygments_lexer": "ipython3",
   "version": "3.10.12"
  },
  "orig_nbformat": 4,
  "vscode": {
   "interpreter": {
    "hash": "916dbcbb3f70747c44a77c7bcd40155683ae19c65e1c03b4aa3499c5328201f1"
   }
  }
 },
 "nbformat": 4,
 "nbformat_minor": 2
}
