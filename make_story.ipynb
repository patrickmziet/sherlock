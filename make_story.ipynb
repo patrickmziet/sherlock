{
 "cells": [
  {
   "cell_type": "code",
   "execution_count": 25,
   "metadata": {},
   "outputs": [],
   "source": [
    "TITLE = \"The Enigma of the Shattered Mirror\"\n",
    "DIFFICULTY = \"hard\"\n",
    "MYSTERY = \"\"\"\n",
    "It was a dreary London evening when Dr. John Watson received an urgent telegram from his dear friend and colleague, Sherlock Holmes. The message was cryptic, as was often the case with the eccentric detective:\n",
    "\"Watson, come at once. The game is afoot. Bring your revolver. - SH\"\n",
    "Without hesitation, Watson donned his coat and hat, tucked his service revolver into his pocket, and hailed a hansom cab to 221B Baker Street. Upon arrival, he found Holmes pacing the sitting room, his pipe emitting plumes of smoke that seemed to mirror the fog outside.\n",
    "\"Ah, Watson! Excellent timing,\" Holmes exclaimed, his eyes gleaming with excitement. \"We have a most peculiar case on our hands. Lady Evelyn Blackwood has been found dead in her study at Ravencrest Manor. The circumstances are... most unusual.\"\n",
    "As Holmes began to explain, a knock at the door interrupted them. It was Inspector Lestrade of Scotland Yard, looking particularly haggard.\n",
    "\"Mr. Holmes, Dr. Watson,\" he nodded to each in turn. \"I'm afraid the situation at Ravencrest has become even more complicated. We've discovered a second body.\"\n",
    "Holmes raised an eyebrow. \"Intriguing. Pray, tell us more, Lestrade.\"\n",
    "\"The second victim is Lord Albert Blackwood, Lady Evelyn's husband. He was found in the greenhouse, apparently poisoned. But that's not all – we've also uncovered evidence of embezzlement, blackmail, and a web of lies that seems to entangle half of London's high society.\"\n",
    "\"Excellent!\" Holmes clapped his hands together. \"A worthy challenge indeed. Come, Watson, let us make haste to Ravencrest Manor.\"\n",
    "As they traveled to the crime scene, Holmes filled Watson in on the details he had gleaned so far. Lady Evelyn Blackwood, a prominent socialite and philanthropist, had been found dead in her study, her skull crushed by a heavy marble bust of Aristotle. The time of death was estimated to be between 9 PM and midnight the previous evening. Lord Albert's body had been discovered in the greenhouse just hours later, with signs of poisoning.\n",
    "Upon arriving at Ravencrest Manor, they were greeted by the somber face of Detective Sergeant Phillips, who led them through the grand foyer.\n",
    "\"We've gathered all the suspects in the drawing room, Mr. Holmes,\" Phillips informed them. \"It's quite a cast of characters, I must say.\"\n",
    "As they entered the drawing room, Watson was struck by the tension that permeated the air. Twelve individuals sat or stood in various states of distress and agitation. Holmes's eyes darted from person to person, no doubt already forming theories and deductions.\n",
    "\"Ladies and gentlemen,\" Holmes addressed the room, \"I am Sherlock Holmes, and this is my associate, Dr. Watson. We are here to investigate the tragic deaths of Lord and Lady Blackwood. I must ask for your full cooperation in this matter.\"\n",
    "Over the next several hours, Holmes and Watson interviewed each of the suspects, uncovering a tangled web of motives, secrets, and lies. The suspects included:\n",
    "\n",
    "Miss Amelia Blackwood - The Blackwoods' daughter, a rebellious young woman with a penchant for scandal.\n",
    "Mr. Edward Blackwood - Lord Albert's younger brother, a struggling businessman with mounting debts.\n",
    "Dr. Jonathan Hartley - The family physician, who had been treating Lady Evelyn for a mysterious illness.\n",
    "Ms. Victoria Pembrook - Lady Evelyn's personal secretary and confidante.\n",
    "Mr. George Wilkins - The Blackwoods' solicitor, responsible for managing their vast estate.\n",
    "Mrs. Eleanor Wilkins - George's wife, a close friend of Lady Evelyn and fellow socialite.\n",
    "Captain James Forrester - A frequent guest at Ravencrest and rumored to have been romantically involved with Lady Evelyn in their youth.\n",
    "Miss Sophia Chen - A brilliant young chemist working on revolutionary new compounds in the Blackwoods' private laboratory.\n",
    "Mr. Thomas Higgins - The head groundskeeper, with an uncanny knowledge of the estate's secret passages.\n",
    "Madame Celeste DuBois - A French medium, often employed by Lady Evelyn for séances and spiritual guidance.\n",
    "Inspector Richard Holloway - A senior detective from Scotland Yard, with a long-standing rivalry with Holmes.\n",
    "Mrs. Margaret Holloway - The inspector's wife, a childhood friend of both Lord and Lady Blackwood.\n",
    "\n",
    "As the investigation progressed, several key pieces of evidence came to light:\n",
    "\n",
    "A shattered mirror in Lady Evelyn's study, with a cryptic message written in lipstick on one of the fragments: \"The truth lies in reflection.\"\n",
    "Traces of a rare poison found in Lord Albert's teacup, which Miss Chen identified as a compound she had been developing.\n",
    "A series of love letters between Lady Evelyn and Captain Forrester, dated over 30 years ago.\n",
    "Financial records showing large sums of money being transferred from the Blackwood accounts to an offshore bank.\n",
    "A half-burned document in the fireplace of Lord Albert's study, revealing plans to disinherit Amelia.\n",
    "Muddy footprints leading from the greenhouse to a hidden entrance in the garden wall.\n",
    "The revelation that Dr. Hartley had misdiagnosed Lady Evelyn's condition, possibly deliberately.\n",
    "\n",
    "The timeline of events became increasingly convoluted as alibis were checked and rechecked. Many of the suspects' stories contradicted one another, and it became clear that nearly everyone had something to hide.\n",
    "Miss Amelia Blackwood claimed to have been at a late-night poetry reading in Soho, but her alibi was shaky at best. Mr. Edward Blackwood insisted he had been in his club until the early hours of the morning, but the club's register showed no record of his presence.\n",
    "Dr. Hartley's account of his whereabouts changed several times during questioning, while Ms. Pembrook seemed to have gaps in her memory about the events of the evening. Mr. and Mrs. Wilkins provided alibis for each other, but their stories were filled with inconsistencies.\n",
    "Captain Forrester initially denied any romantic involvement with Lady Evelyn, only to backtrack when confronted with the love letters. Miss Chen appeared nervous and evasive when questioned about the poison found in Lord Albert's cup.\n",
    "Mr. Higgins's knowledge of the secret passages raised suspicions, as did Madame DuBois's claim to have sensed a \"malevolent presence\" in the house on the night of the murders. Inspector Holloway's aggressive questioning of the other suspects seemed to betray a personal stake in the case, while Mrs. Holloway's childhood connection to the Blackwoods added another layer of complexity.\n",
    "As night fell, Holmes requested that everyone gather in the grand ballroom of Ravencrest Manor. The room was dimly lit by flickering gas lamps, casting long shadows across the faces of the assembled suspects. Holmes stood before them, his keen eyes scanning the crowd as he prepared to reveal his deductions.\n",
    "\"Ladies and gentlemen,\" he began, \"the deaths of Lord and Lady Blackwood are not merely a tragedy, but a carefully orchestrated crime of passion, greed, and revenge. The shattered mirror in Lady Evelyn's study was not just a piece of evidence, but a metaphor for the fractured web of lies that has surrounded this case.\"\n",
    "Holmes paced the room, his voice echoing off the high ceilings. \"Each of you has played a part in this intricate drama, whether knowingly or unknowingly. Miss Blackwood's rebellion, Mr. Edward's financial troubles, Dr. Hartley's misdiagnosis, Ms. Pembrook's loyalty, Mr. Wilkins's legal maneuvering, Mrs. Wilkins's social connections, Captain Forrester's past romance, Miss Chen's scientific brilliance, Mr. Higgins's knowledge of the estate, Madame DuBois's spiritual insights, and the Holloways' long-standing relationships – all of these elements have contributed to the perfect storm that culminated in two deaths.\"\n",
    "The detective paused, allowing the tension in the room to build. \"But the truth, as Lady Evelyn wrote, lies in reflection. Not just in the mirror, but in the reflection of our actions, our choices, and our deepest desires.\"\n",
    "Holmes then proceeded to unravel the complex sequence of events that had led to the murders. He revealed that Lord Albert had indeed been embezzling funds from his own company, using Mr. Wilkins as an unwitting accomplice. Lady Evelyn had discovered this and had been blackmailing her husband, threatening to expose him unless he agreed to her demands.\n",
    "The love letters between Lady Evelyn and Captain Forrester were part of a elaborate ruse designed to manipulate the Captain into providing an alibi for Lady Evelyn on the night of the murder. Dr. Hartley's misdiagnosis was intentional, paid for by Lord Albert to keep his wife under control.\n",
    "Miss Chen's poison had been stolen from her laboratory by someone with intimate knowledge of the estate – Mr. Higgins, who had been bribed by Lord Albert to assist in a plan to slowly poison Lady Evelyn. However, this plan had gone awry when Lady Evelyn discovered it and turned the tables on her husband.\n",
    "Amelia's potential disinheritance was a red herring, planted by Lady Evelyn to cast suspicion on her daughter. The muddy footprints were a clever misdirect, created by Mr. Higgins at Lady Evelyn's behest.\n",
    "Inspector Holloway's aggressive questioning and Mrs. Holloway's childhood connection were exploited by the true killer to create further confusion and misdirection.\n",
    "As Holmes spoke, the assembled suspects listened with a mixture of shock, disbelief, and growing understanding. Finally, the detective came to his conclusion.\n",
    "\"The culprit is none other than Ms. Victoria Pembrook,\" Holmes declared, his eyes fixing on the ashen-faced secretary.\n",
    "A collective gasp filled the room as all eyes turned to Ms. Pembrook, who had begun to tremble visibly.\n",
    "\"Ms. Pembrook was not merely Lady Evelyn's secretary, but her devoted lover for many years,\" Holmes explained. \"She had helped Lady Evelyn orchestrate the blackmail of Lord Albert, believing they would finally be free to be together. However, she discovered that Lady Evelyn had been using Captain Forrester as a smokescreen, planning to run away with him instead.\"\n",
    "Holmes continued, \"Consumed by jealousy and betrayal, Ms. Pembrook confronted Lady Evelyn in her study. In a fit of rage, she struck her with the marble bust, killing her instantly. The shattered mirror was not part of the original crime, but a spontaneous act of remorse – Ms. Pembrook, horrified by what she had done, smashed the mirror and wrote the cryptic message as a subconscious cry for the truth to be revealed.\"\n",
    "\"But her crime did not end there,\" Holmes said gravely. \"Realizing that Lord Albert's death would complete her revenge and potentially throw suspicion off herself, she used the stolen poison to kill him in the greenhouse, where he often took his evening tea.\"\n",
    "Ms. Pembrook, her composure finally breaking, fell to her knees. \"She promised me we would be together,\" she sobbed. \"All those years of devotion, of secrecy... and she was going to leave me for him!\"\n",
    "As Lestrade moved to arrest Ms. Pembrook, Holmes turned to the stunned assembly. \"This case serves as a stark reminder that the most dangerous motivations are often those of the heart. Love, when twisted by jealousy and betrayal, can drive even the most loyal of souls to commit the most heinous of crimes.\"\n",
    "With the mystery solved, the residents and guests of Ravencrest Manor were left to grapple with the shocking revelations and the tragic consequences of long-buried secrets brought to light.\n",
    "As Holmes and Watson departed Ravencrest Manor, the first light of dawn was breaking over the horizon. The case of the shattered mirror had been solved, but its repercussions would be felt in London society for years to come.\n",
    "\"You know, Watson,\" Holmes mused as they walked towards their waiting carriage, \"in all my years of detective work, I have found that the human heart remains the most complex and unpredictable element in any mystery.\"\n",
    "Watson nodded solemnly. \"Indeed, Holmes. It seems that even in a house of mirrors, the truest reflections are those of our own souls.\"\n",
    "With that, the two friends climbed into the carriage, leaving behind the echoes of a tragedy born of love, lies, and the relentless pursuit of truth.\n",
    "\"\"\"\n",
    "SUSPECTS = [\n",
    "    \"Miss Amelia Blackwood\",\n",
    "    \"Mr. Edward Blackwood\",\n",
    "    \"Dr. Jonathan Hartley\",\n",
    "    \"Ms. Victoria Pembrook\",\n",
    "    \"Mr. George Wilkins\",\n",
    "    \"Mrs. Eleanor Wilkins\",\n",
    "    \"Captain James Forrester\",\n",
    "    \"Miss Sophia Chen\",\n",
    "    \"Mr. Thomas Higgins\",\n",
    "    \"Madame Celeste DuBois\",\n",
    "    \"Inspector Richard Holloway\",\n",
    "    \"Mrs. Margaret Holloway\"\n",
    "]\n",
    "CULPRIT = \"Ms. Victoria Pembrook\""
   ]
  },
  {
   "cell_type": "code",
   "execution_count": 26,
   "metadata": {},
   "outputs": [
    {
     "name": "stdout",
     "output_type": "stream",
     "text": [
      "t is none other than\n",
      " Ms. Victoria Pembro\n"
     ]
    }
   ],
   "source": [
    "def find_reveal_index(story):\n",
    "    reveal_phrase = \"The culprit is none other than \"\n",
    "    index = story.find(reveal_phrase)\n",
    "\n",
    "    if index == -1:\n",
    "        return None  # Phrase not found\n",
    "\n",
    "    # Return the index of the space after \"than\"\n",
    "    return index + len(reveal_phrase) - 1\n",
    "\n",
    "REVEAL_INDEX = find_reveal_index(MYSTERY)\n",
    "print(MYSTERY[REVEAL_INDEX-20:REVEAL_INDEX])\n",
    "print(MYSTERY[REVEAL_INDEX:REVEAL_INDEX + 20])\n"
   ]
  },
  {
   "cell_type": "code",
   "execution_count": 24,
   "metadata": {},
   "outputs": [
    {
     "name": "stdout",
     "output_type": "stream",
     "text": [
      "Mystery 'The Curious Case of the Locked Room Murder' has been saved successfully.\n"
     ]
    }
   ],
   "source": [
    "from src.create_json import create_mystery_json\n",
    "\n",
    "create_mystery_json(TITLE, DIFFICULTY, MYSTERY, SUSPECTS, CULPRIT, REVEAL_INDEX)"
   ]
  },
  {
   "cell_type": "code",
   "execution_count": null,
   "metadata": {},
   "outputs": [],
   "source": []
  }
 ],
 "metadata": {
  "kernelspec": {
   "display_name": "Python 3",
   "language": "python",
   "name": "python3"
  },
  "language_info": {
   "codemirror_mode": {
    "name": "ipython",
    "version": 3
   },
   "file_extension": ".py",
   "mimetype": "text/x-python",
   "name": "python",
   "nbconvert_exporter": "python",
   "pygments_lexer": "ipython3",
   "version": "3.10.12"
  },
  "orig_nbformat": 4,
  "vscode": {
   "interpreter": {
    "hash": "916dbcbb3f70747c44a77c7bcd40155683ae19c65e1c03b4aa3499c5328201f1"
   }
  }
 },
 "nbformat": 4,
 "nbformat_minor": 2
}
