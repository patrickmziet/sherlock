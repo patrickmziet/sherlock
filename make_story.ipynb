{
 "cells": [
  {
   "attachments": {},
   "cell_type": "markdown",
   "metadata": {},
   "source": [
    "## Murder Mystery Difficulty Criteria Prompt"
   ]
  },
  {
   "attachments": {},
   "cell_type": "markdown",
   "metadata": {},
   "source": [
    "Below is a prompt you can submit to an LLM to make an easy, medium or hard Sherlock Holmes story. At present, it works fairly well with the exception that making the stories an appropriate length can be tricky. It often undershoots the length requirement, perhaps for this reason:\n",
    "\n",
    "\"*Most AI systems are trained on less than 2,000 words per sample. They can generalize across all of its training but no system to date trains on 80,000 words per sample. This will change with more memory and processing power.*\n",
    "\n",
    "*When that happens AI will be able to actually “read” entire novels and understand story structure on a fundamental level.*\" - [Andrew Mayne on X](https://x.com/AndrewMayne/status/1830712710939779305)\n"
   ]
  },
  {
   "attachments": {},
   "cell_type": "markdown",
   "metadata": {},
   "source": [
    "Write a Sherlock Holmes murder mystery story where throughout the story you introduce various characters, and give details which observed by themselves do not give away who the culprit is. But rather, by the end of the story there is enough detail for Sherlock to deduce who the culprit is. Please note that the culprit can never be Sherlock or Dr Watson, and that only one person can be the culprit. Furthermore this must be a new mystery, i.e. it cannot come from previously written Sherlock Holmes fictions. \n",
    "\n",
    "In the final paragraph of the story Sherlock must reveal who the culprit is with the sentence \"The culprit is none other than __\", and only then give the reasoning behind his reasoning. At the end of the story make a python list of all the suspects.\n",
    "\n",
    "The story must meet the following criteria (especially the length criteria - it simply must meet it):\n",
    "\n",
    "### Easy\n",
    "\n",
    "1. **Story Length**: At least 750 words. This length requirement must be strictly followed.\n",
    "2. **Limited Suspects**: 3-5 suspects with clear motives.\n",
    "3. **Straightforward Timeline**: Events occur in a linear, easy-to-follow sequence.\n",
    "4. **Obvious Clues**: Clear and direct evidence pointing to the culprit.\n",
    "5. **Simple Motive**: Easy-to-understand reason for the crime (e.g., jealousy, money).\n",
    "6. **Single Crime Scene**: All relevant events occur in one location.\n",
    "7. **No Red Herrings**: All clues are relevant to solving the mystery.\n",
    "8. **Clear Alibis**: Most suspects have verifiable alibis, narrowing down the possibilities.\n",
    "9. **Minimal Background**: Limited character backstories and history to consider.\n",
    "\n",
    "Again, ensure that the story is at least 750 words."
   ]
  },
  {
   "attachments": {},
   "cell_type": "markdown",
   "metadata": {},
   "source": [
    "Write a Sherlock Holmes murder mystery story where throughout the story you introduce various characters, and give details which observed by themselves do not give away who the culprit is. But rather, by the end of the story there is enough detail for Sherlock to deduce who the culprit is. Please note that the culprit can never be Sherlock or Dr Watson, and that only one person can be the culprit. Furthermore this must be a new mystery, i.e. it cannot come from previously written Sherlock Holmes fictions. \n",
    "\n",
    "In the final paragraph of the story Sherlock must reveal who the culprit is with the sentence \"The culprit is none other than __\", and only then give the reasoning behind his reasoning. At the end of the story make a python list of all the suspects.\n",
    "\n",
    "The story must meet the following criteria (especially the length criteria - it simply must meet it):\n",
    "\n",
    "### Medium\n",
    "\n",
    "1. **Story Length**: At least 1500 words. This length requirement must be strictly followed.\n",
    "2. **Moderate Number of Suspects**: 6-9 suspects with intertwining relationships.\n",
    "3. **Slightly Complex Timeline**: Some events may overlap or have unclear ordering.\n",
    "4. **Mix of Obvious and Subtle Clues**: Some evidence is clear, while other clues require more interpretation.\n",
    "5. **Multifaceted Motive**: The reason for the crime involves multiple factors or is not immediately apparent.\n",
    "6. **Multiple Crime Scenes**: Relevant events occur in 2-3 different locations.\n",
    "7. **Some Red Herrings**: A few misleading clues that require elimination.\n",
    "8. **Questionable Alibis**: Some suspects have alibis that are difficult to verify or have small inconsistencies.\n",
    "9. **Moderate Backstory**: Character histories play a role in understanding motives and relationships.\n",
    "10. **Secondary Crimes**: Minor related crimes or secrets that complicate the main investigation.\n",
    "11. **Basic Forensic Evidence**: Introduction of simple forensic concepts.\n",
    "\n",
    "Again, ensure that the story is at least 1500 words."
   ]
  },
  {
   "attachments": {},
   "cell_type": "markdown",
   "metadata": {},
   "source": [
    "Write a Sherlock Holmes murder mystery story where throughout the story you introduce various characters, and give details which observed by themselves do not give away who the culprit is. But rather, by the end of the story there is enough detail for Sherlock to deduce who the culprit is. Please note that the culprit can never be Sherlock or Dr Watson, and that only one person can be the culprit. Furthermore this must be a new mystery, i.e. it cannot come from previously written Sherlock Holmes fictions. \n",
    "\n",
    "In the final paragraph of the story Sherlock must reveal who the culprit is with the sentence \"The culprit is none other than __\", and only then give the reasoning behind his reasoning. At the end of the story make a python list of all the suspects.\n",
    "\n",
    "The story must meet the following criteria (especially the length criteria - it simply must meet it):\n",
    "\n",
    "### Hard\n",
    "\n",
    "1. **Story Length**: At least 3000 words. This length requirement must be strictly followed.\n",
    "2. **Large Cast of Suspects**: 10-15 suspects with complex interconnected relationships.\n",
    "3. **Complex Timeline**: Non-linear events, flashbacks, or unreliable narrator elements.\n",
    "4. **Predominantly Subtle Clues**: Most evidence requires careful analysis and interpretation.\n",
    "5. **Obscure or Twisted Motive**: The reason for the crime is highly complex, psychological, or initially seems absent.\n",
    "6. **Multiple Interrelated Crime Scenes**: 4+ locations with important clues scattered across them.\n",
    "7. **Numerous Red Herrings**: Many misleading clues that require careful elimination and analysis.\n",
    "8. **Conflicting Alibis**: Suspects' stories contradict each other, creating a complex web of truths and lies.\n",
    "9. **Extensive Backstories**: Deep character histories crucial to understanding the crime and motives.\n",
    "10. **Advanced Forensic Evidence**: Incorporation of complex forensic techniques or cutting-edge technology.\n",
    "11. **Psychological Elements**: Deep dive into characters' psyches, potentially including unreliable narrators or memory issues.\n",
    "12. **Plot Twists**: Major revelations that force re-evaluation of previously established \"facts.\"\n",
    "13. **Sophisticated Cover-up**: Elaborate attempts to hide the truth, potentially involving multiple parties.\n",
    "\n",
    "Again, ensure that the story is at least 3000 words."
   ]
  },
  {
   "attachments": {},
   "cell_type": "markdown",
   "metadata": {},
   "source": [
    "## Make a Mystery using the variables below"
   ]
  },
  {
   "cell_type": "code",
   "execution_count": 1,
   "metadata": {},
   "outputs": [],
   "source": [
    "TITLE = \"The Case of the Silenced Soprano\"\n",
    "DIFFICULTY = \"easy\"\n",
    "MYSTERY = \"\"\"\n",
    "It was a crisp autumn evening when Inspector Lestrade burst into 221B Baker Street, his face flushed with urgency. \"Holmes! We need your help at the Royal Opera House. There's been a murder!\"\n",
    "Sherlock Holmes, ever composed, raised an eyebrow. \"Indeed? Do tell, Lestrade.\"\n",
    "As we made our way to the opera house, Lestrade filled us in on the grim details. The victim was Madame Eloise Bellamy, the lead soprano in the current production of \"La Traviata.\" She had been found dead in her dressing room, strangled with her own silk scarf, mere hours before the evening's performance.\n",
    "Upon arrival, we were led to the victim's dressing room. The space was lavish, befitting a star of Madame Bellamy's caliber. Her lifeless body lay sprawled across a chaise lounge, the silk scarf still wound tightly around her neck.\n",
    "Holmes circled the room, his keen eyes taking in every detail. He paused at the dressing table, examining the various cosmetics and personal items strewn about. \"Tell me, Lestrade, who discovered the body?\"\n",
    "\"That would be Mr. Thomas Greene, the stage manager,\" Lestrade replied. \"He came to call Madame Bellamy for her final costume fitting and found her like this.\"\n",
    "Holmes nodded, his fingers tracing the edge of a shattered mirror on the dressing table. \"And our suspects?\"\n",
    "Lestrade consulted his notebook. \"We have three primary suspects. First, there's Mr. Greene himself. Despite his claim of discovering the body, he had means and opportunity. Then we have Miss Lucinda Fairfax, Madame Bellamy's understudy. She stands to gain the most from Eloise's death, as she'll now take the lead role. Lastly, there's Mr. Victor Rosaline, Madame Bellamy's former lover and the opera's lead tenor.\"\n",
    "As Lestrade spoke, Holmes examined the room further, paying particular attention to a half-empty glass of water on the side table and a small pile of sheet music near the victim's hand.\n",
    "\"Let's speak with our suspects, shall we?\" Holmes suggested.\n",
    "We began with Thomas Greene, a nervous man in his fifties with thinning hair and spectacles. \"I swear, I had nothing to do with this,\" he stammered. \"I was in my office all afternoon, preparing for tonight's performance. I only left to fetch Madame Bellamy for her fitting.\"\n",
    "Next came Lucinda Fairfax, a young woman with fiery red hair and ambitious eyes. \"It's terrible what happened to Eloise,\" she said, her voice tinged with what seemed like genuine sorrow. \"Yes, I'm her understudy, but I would never... I was practicing my scales in the rehearsal room all afternoon. Several chorus members can vouch for me.\"\n",
    "Lastly, we interviewed Victor Rosaline, a handsome man with a proud bearing. \"Eloise and I may have had our differences, but I respected her immensely as an artist,\" he declared. \"I was in my dressing room, going over my lines. My valet can confirm this.\"\n",
    "As we concluded our interviews, Holmes turned to me with a glimmer in his eye. \"Well, Watson, what do you make of it?\"\n",
    "I shook my head, bewildered. \"I'm afraid I'm at a loss, Holmes. They all seem to have alibis, yet they all had motive and opportunity.\"\n",
    "Holmes smiled. \"Ah, but the devil is in the details, my dear Watson. Lestrade, I believe I can shed light on this tragic affair.\"\n",
    "We gathered in Madame Bellamy's dressing room once more, the suspects looking on nervously as Holmes paced the floor.\n",
    "\"This case, while tragic, is not as complex as it may seem,\" Holmes began. \"The culprit is none other than Mr. Thomas Greene.\"\n",
    "Gasps filled the room as Greene's face turned ashen. Holmes continued, \"Mr. Greene's guilt is evident in several key details. First, the shattered mirror on the dressing table. It was broken not in a struggle, but deliberately to remove evidence - specifically, fingerprints. This suggests the culprit was someone familiar with police procedures.\n",
    "\"Secondly, the half-empty glass of water. Madame Bellamy was known to drink tea before performances to soothe her throat, yet here we find water. This indicates the drink was brought by someone else - someone who didn't know her habits.\n",
    "\"Lastly, and most tellingly, is the sheet music near the victim's hand. It's from Act III of 'La Traviata,' but Madame Bellamy, as a consummate professional, would have been rehearsing Act I, which opens the show. Only someone unfamiliar with the opera's progression would make such a mistake in staging the scene.\n",
    "\"Mr. Greene, as stage manager, had the access and opportunity to commit this crime. His nervousness wasn't due to the shock of discovery, but the fear of being caught. His claim of being in his office all afternoon was a lie - he had no witnesses to corroborate his story, unlike our other suspects.\"\n",
    "As Lestrade moved to arrest the now-confessing Greene, Holmes turned to me. \"A sad affair, Watson, driven by jealousy and resentment. It seems Mr. Greene had proposed marriage to Madame Bellamy and was spurned. He couldn't bear to see her perform night after night, a constant reminder of his rejection.\"\n",
    "With the case solved, we left the opera house, the echo of tragedy lingering in the air. Another mystery unraveled, another criminal brought to justice by the incomparable Sherlock Holmes.\n",
    "\"\"\"\n",
    "SUSPECTS = [\"Thomas Greene\", \n",
    "            \"Lucinda Fairfax\", \n",
    "            \"Victor Rosaline\"\n",
    "        ]\n",
    "CULPRIT = \"Thomas Greene\""
   ]
  },
  {
   "cell_type": "code",
   "execution_count": 2,
   "metadata": {},
   "outputs": [
    {
     "name": "stdout",
     "output_type": "stream",
     "text": [
      "t is none other than\n",
      " Mr. Thomas Greene.\"\n"
     ]
    }
   ],
   "source": [
    "def find_reveal_index(story):\n",
    "    reveal_phrase = \"The culprit is none other than \"\n",
    "    index = story.find(reveal_phrase)\n",
    "\n",
    "    if index == -1:\n",
    "        return None  # Phrase not found\n",
    "\n",
    "    # Return the index of the space after \"than\"\n",
    "    return index + len(reveal_phrase) - 1\n",
    "\n",
    "REVEAL_INDEX = find_reveal_index(MYSTERY)\n",
    "print(MYSTERY[REVEAL_INDEX-20:REVEAL_INDEX])\n",
    "print(MYSTERY[REVEAL_INDEX:REVEAL_INDEX + 20])\n"
   ]
  },
  {
   "attachments": {},
   "cell_type": "markdown",
   "metadata": {},
   "source": [
    "### Add story"
   ]
  },
  {
   "cell_type": "code",
   "execution_count": 3,
   "metadata": {},
   "outputs": [
    {
     "name": "stdout",
     "output_type": "stream",
     "text": [
      "Mystery 'The Case of the Silenced Soprano' has been saved successfully in the easy directory.\n"
     ]
    }
   ],
   "source": [
    "from src.create_json import create_mystery_json\n",
    "create_mystery_json(TITLE, DIFFICULTY, MYSTERY, SUSPECTS, CULPRIT, REVEAL_INDEX)"
   ]
  },
  {
   "cell_type": "code",
   "execution_count": null,
   "metadata": {},
   "outputs": [],
   "source": []
  }
 ],
 "metadata": {
  "kernelspec": {
   "display_name": "Python 3",
   "language": "python",
   "name": "python3"
  },
  "language_info": {
   "codemirror_mode": {
    "name": "ipython",
    "version": 3
   },
   "file_extension": ".py",
   "mimetype": "text/x-python",
   "name": "python",
   "nbconvert_exporter": "python",
   "pygments_lexer": "ipython3",
   "version": "3.10.12 (main, Jul 29 2024, 16:56:48) [GCC 11.4.0]"
  },
  "orig_nbformat": 4,
  "vscode": {
   "interpreter": {
    "hash": "916dbcbb3f70747c44a77c7bcd40155683ae19c65e1c03b4aa3499c5328201f1"
   }
  }
 },
 "nbformat": 4,
 "nbformat_minor": 2
}
