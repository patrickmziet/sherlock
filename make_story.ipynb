{
 "cells": [
  {
   "attachments": {},
   "cell_type": "markdown",
   "metadata": {},
   "source": [
    "## Murder Mystery Difficulty Criteria Prompt"
   ]
  },
  {
   "attachments": {},
   "cell_type": "markdown",
   "metadata": {},
   "source": [
    "Below is a prompt you can submit to an LLM to make an easy, medium or hard Sherlock Holmes story. At present, it works fairly well with the exception that making the stories an appropriate length can be tricky. It often undershoots the length requirement, perhaps for this reason:\n",
    "\n",
    "\"*Most AI systems are trained on less than 2,000 words per sample. They can generalize across all of its training but no system to date trains on 80,000 words per sample. This will change with more memory and processing power.*\n",
    "\n",
    "*When that happens AI will be able to actually “read” entire novels and understand story structure on a fundamental level.*\" - [Andrew Mayne on X](https://x.com/AndrewMayne/status/1830712710939779305)\n"
   ]
  },
  {
   "attachments": {},
   "cell_type": "markdown",
   "metadata": {},
   "source": [
    "Write a Sherlock Holmes murder mystery story where throughout the story you introduce various characters, and give details which observed by themselves do not give away who the culprit is. But rather, by the end of the story there is enough detail for Sherlock to deduce who the culprit is. Please note that the culprit can never be Sherlock or Dr Watson, and that only one person can be the culprit. Furthermore this must be a new mystery, i.e. it cannot come from previously written Sherlock Holmes fictions. \n",
    "\n",
    "In the final paragraph of the story Sherlock must reveal who the culprit is with the sentence \"The culprit is none other than __\", and only then give the reasoning behind his reasoning. At the end of the story make a python list of all the suspects.\n",
    "\n",
    "The story must meet the following criteria (especially the length criteria - it simply must meet it):\n",
    "\n",
    "### Easy\n",
    "\n",
    "1. **Story Length**: At least 750 words. This length requirement must be strictly followed.\n",
    "2. **Limited Suspects**: 3-5 suspects with clear motives.\n",
    "3. **Straightforward Timeline**: Events occur in a linear, easy-to-follow sequence.\n",
    "4. **Obvious Clues**: Clear and direct evidence pointing to the culprit.\n",
    "5. **Simple Motive**: Easy-to-understand reason for the crime (e.g., jealousy, money).\n",
    "6. **Single Crime Scene**: All relevant events occur in one location.\n",
    "7. **No Red Herrings**: All clues are relevant to solving the mystery.\n",
    "8. **Clear Alibis**: Most suspects have verifiable alibis, narrowing down the possibilities.\n",
    "9. **Minimal Background**: Limited character backstories and history to consider.\n",
    "\n",
    "Again, ensure that the story is at least 750 words."
   ]
  },
  {
   "attachments": {},
   "cell_type": "markdown",
   "metadata": {},
   "source": [
    "Write a Sherlock Holmes murder mystery story where throughout the story you introduce various characters, and give details which observed by themselves do not give away who the culprit is. But rather, by the end of the story there is enough detail for Sherlock to deduce who the culprit is. Please note that the culprit can never be Sherlock or Dr Watson, and that only one person can be the culprit. Furthermore this must be a new mystery, i.e. it cannot come from previously written Sherlock Holmes fictions. \n",
    "\n",
    "In the final paragraph of the story Sherlock must reveal who the culprit is with the sentence \"The culprit is none other than __\", and only then give the reasoning behind his reasoning. At the end of the story make a python list of all the suspects.\n",
    "\n",
    "The story must meet the following criteria (especially the length criteria - it simply must meet it):\n",
    "\n",
    "### Medium\n",
    "\n",
    "1. **Story Length**: At least 1500 words. This length requirement must be strictly followed.\n",
    "2. **Moderate Number of Suspects**: 6-9 suspects with intertwining relationships.\n",
    "3. **Slightly Complex Timeline**: Some events may overlap or have unclear ordering.\n",
    "4. **Mix of Obvious and Subtle Clues**: Some evidence is clear, while other clues require more interpretation.\n",
    "5. **Multifaceted Motive**: The reason for the crime involves multiple factors or is not immediately apparent.\n",
    "6. **Multiple Crime Scenes**: Relevant events occur in 2-3 different locations.\n",
    "7. **Some Red Herrings**: A few misleading clues that require elimination.\n",
    "8. **Questionable Alibis**: Some suspects have alibis that are difficult to verify or have small inconsistencies.\n",
    "9. **Moderate Backstory**: Character histories play a role in understanding motives and relationships.\n",
    "10. **Secondary Crimes**: Minor related crimes or secrets that complicate the main investigation.\n",
    "11. **Basic Forensic Evidence**: Introduction of simple forensic concepts.\n",
    "\n",
    "Again, ensure that the story is at least 1500 words."
   ]
  },
  {
   "attachments": {},
   "cell_type": "markdown",
   "metadata": {},
   "source": [
    "Write a Sherlock Holmes murder mystery story where throughout the story you introduce various characters, and give details which observed by themselves do not give away who the culprit is. But rather, by the end of the story there is enough detail for Sherlock to deduce who the culprit is. Please note that the culprit can never be Sherlock or Dr Watson, and that only one person can be the culprit. Furthermore this must be a new mystery, i.e. it cannot come from previously written Sherlock Holmes fictions. \n",
    "\n",
    "In the final paragraph of the story Sherlock must reveal who the culprit is with the sentence \"The culprit is none other than __\", and only then give the reasoning behind his reasoning. At the end of the story make a python list of all the suspects.\n",
    "\n",
    "The story must meet the following criteria (especially the length criteria - it simply must meet it):\n",
    "\n",
    "### Hard\n",
    "\n",
    "1. **Story Length**: At least 3000 words. This length requirement must be strictly followed.\n",
    "2. **Large Cast of Suspects**: 10-15 suspects with complex interconnected relationships.\n",
    "3. **Complex Timeline**: Non-linear events, flashbacks, or unreliable narrator elements.\n",
    "4. **Predominantly Subtle Clues**: Most evidence requires careful analysis and interpretation.\n",
    "5. **Obscure or Twisted Motive**: The reason for the crime is highly complex, psychological, or initially seems absent.\n",
    "6. **Multiple Interrelated Crime Scenes**: 4+ locations with important clues scattered across them.\n",
    "7. **Numerous Red Herrings**: Many misleading clues that require careful elimination and analysis.\n",
    "8. **Conflicting Alibis**: Suspects' stories contradict each other, creating a complex web of truths and lies.\n",
    "9. **Extensive Backstories**: Deep character histories crucial to understanding the crime and motives.\n",
    "10. **Advanced Forensic Evidence**: Incorporation of complex forensic techniques or cutting-edge technology.\n",
    "11. **Psychological Elements**: Deep dive into characters' psyches, potentially including unreliable narrators or memory issues.\n",
    "12. **Plot Twists**: Major revelations that force re-evaluation of previously established \"facts.\"\n",
    "13. **Sophisticated Cover-up**: Elaborate attempts to hide the truth, potentially involving multiple parties.\n",
    "\n",
    "Again, ensure that the story is at least 3000 words."
   ]
  },
  {
   "attachments": {},
   "cell_type": "markdown",
   "metadata": {},
   "source": [
    "## Make a Mystery using the variables below"
   ]
  },
  {
   "cell_type": "code",
   "execution_count": 12,
   "metadata": {},
   "outputs": [],
   "source": [
    "TITLE = \"The Phantom's Sonata A Symphony of Deception\"\n",
    "DIFFICULTY = \"hard\"\n",
    "MYSTERY = \"\"\"\n",
    "The gentle notes of a violin pierced the fog-laden air of Baker Street as Dr. John Watson approached 221B. It was an unusually warm autumn evening in London, the year 1895. As he ascended the familiar seventeen steps, the melancholy tune grew louder, confirming that his friend and colleague, Sherlock Holmes, was deep in contemplation.\n",
    "Watson entered to find Holmes by the window, instrument in hand, his tall figure silhouetted against the gaslit street below. Without turning, Holmes spoke, \"Ah, Watson. I trust your day at the medical conference was illuminating?\"\n",
    "\"Indeed it was, Holmes,\" Watson replied, settling into his armchair. \"Though I daresay not as intriguing as whatever case has you so engrossed in your music.\"\n",
    "Holmes lowered his violin, a wry smile playing at the corners of his mouth. \"Your powers of deduction improve daily, my dear Watson. We have been summoned to the Royal Opera House. It seems the phantom of the opera is no longer confined to the realms of fiction.\"\n",
    "As Holmes recounted the details, Watson's eyes widened. The body of Madame Adeline Beaumont, the Opera's celebrated prima donna, had been discovered in her dressing room just hours earlier. The circumstances were as bizarre as they were gruesome – her lifeless form sprawled across a chaise lounge, a silk scarf wound tightly around her neck, and a porcelain mask affixed to her face.\n",
    "\"But surely, Holmes, this is the work of some deranged fan? A copycat of that new novel by Gaston Leroux?\" Watson interjected.\n",
    "\"Perhaps,\" Holmes mused, \"or perhaps something far more intricate. Come, Watson, the game is afoot!\"\n",
    "As they arrived at the Royal Opera House, they were greeted by Inspector Lestrade, his face ashen in the flickering gaslights. \"Mr. Holmes, Dr. Watson, thank heaven you've come. It's a right mess, it is.\"\n",
    "The opulent corridors of the opera house were abuzz with whispers and fearful glances. As they approached Madame Beaumont's dressing room, a tall, distinguished gentleman in evening wear intercepted them.\n",
    "\"Monsieur Holmes, I presume? I am Maurice Devereaux, the Opera's artistic director. This is a tragedy beyond measure. Adeline was... irreplaceable.\"\n",
    "Holmes's keen eyes noted the slight tremor in Devereaux's hand as he spoke. \"Indeed, Monsieur Devereaux. I understand you were the last to see Madame Beaumont alive?\"\n",
    "\"Yes, yes,\" Devereaux nodded, his French accent more pronounced in his distress. \"We had a brief discussion about tonight's performance of 'Don Giovanni'. She seemed... distracted, but otherwise in good spirits.\"\n",
    "As they entered the dressing room, the opulence of the space stood in stark contrast to the macabre scene before them. Madame Beaumont's body had been removed, but the evidence of the struggle remained – overturned furniture, shattered mirrors, and most curiously, a single red rose with a black ribbon tied around its stem.\n",
    "Holmes moved about the room with practiced efficiency, his eyes darting from one detail to the next. He paused at the vanity, lifting a small bottle to the light. \"Interesting,\" he murmured, \"a tincture of belladonna. Used to dilate the pupils, I believe? A common practice among opera singers, is it not, Watson?\"\n",
    "Before Watson could respond, a commotion erupted in the hallway. A young woman with fiery red hair burst into the room, her face streaked with tears. \"Where is she? Where is Adeline? This can't be happening!\"\n",
    "Inspector Lestrade moved to intercept her. \"Miss, you can't be in here. This is a crime scene.\"\n",
    "\"Crime scene?\" the woman's voice rose hysterically. \"What are you talking about? It was an accident, wasn't it? It had to be!\"\n",
    "Holmes stepped forward, his voice calm and authoritative. \"Madam, might I inquire as to your name and relationship with the deceased?\"\n",
    "The woman took a shuddering breath. \"I'm Vivian Rousseau, Adeline's understudy. She was... she was my mentor, my friend. Who could have done this to her?\"\n",
    "As Vivian was led away by a constable, Holmes turned to Lestrade. \"Inspector, I'll need to interview all members of the company, as well as the staff. No one leaves the building until we've spoken with them.\"\n",
    "The next hours were a whirlwind of interviews, each revealing new layers to the complex web of relationships within the Opera.\n",
    "There was Erik Blackwood, the Opera's lead tenor, whose passionate affair with Madame Beaumont had recently ended in a very public confrontation. \"Yes, Adeline and I had our differences,\" he admitted, his handsome face etched with grief, \"but I would never harm her. Her voice was... transcendent.\"\n",
    "Backstage, they encountered Greta Müller, the stern German stage manager known for her exacting standards and short temper. \"Madame Beaumont was brilliant, yes, but also difficult. Always demanding changes, special treatment. It made my job... challenging.\"\n",
    "In the costume department, they found Lucien Moreau, the flamboyant designer whose creations had adorned Madame Beaumont for years. \"Adeline was my muse, my living canvas,\" he lamented, nervously adjusting his cravat. \"Who will wear my masterpieces now?\"\n",
    "As they delved deeper, more suspects emerged. There was Isabelle Chen, the ambitious young soprano whose rivalry with Madame Beaumont was well-known in opera circles. \"Adeline was past her prime,\" Isabelle said coolly, \"It was time for new blood in the lead roles.\"\n",
    "They also encountered Doctor Nathaniel Price, the Opera's resident physician, who seemed unusually interested in the details of Madame Beaumont's death. \"A tragedy, truly,\" he murmured, his eyes darting nervously. \"I had warned her about the dangers of those eye drops...\"\n",
    "As night fell, Holmes insisted on examining the Opera's cavernous basement, much to Lestrade's bewilderment. It was there they stumbled upon a hidden passageway, leading to a small, damp room filled with newspaper clippings, photographs, and what appeared to be a shrine dedicated to Madame Beaumont.\n",
    "\"Good lord,\" Watson exclaimed, \"It seems our phantom is quite real after all.\"\n",
    "Holmes's eyes narrowed as he examined a recent photograph of Madame Beaumont. \"Notice anything unusual, Watson?\"\n",
    "Watson peered closer. \"Why... she's wearing the same mask we found on her body!\"\n",
    "Their investigation was interrupted by the arrival of Lady Eleanor Ashworth, the Opera's wealthy patroness. \"Mr. Holmes, I demand to know what progress you've made. The board is in an uproar, and opening night is in mere days!\"\n",
    "As Holmes assured Lady Ashworth of his diligence, Watson couldn't help but notice the ornate brooch adorning her collar – a golden mask, not unlike the one found on the victim.\n",
    "The following day brought new revelations. Forensic analysis revealed traces of a rare poison in Madame Beaumont's system, one derived from a plant found only in the remote regions of South America. This led them to Professor James Moriarty, the Opera's reclusive composer-in-residence, who had recently returned from an expedition to the Amazon.\n",
    "\"Poison?\" Moriarty scoffed, his wild eyes gleaming behind thick spectacles. \"I am a man of music, Mr. Holmes, not murder. Though I admit, Adeline's death has inspired a new opera... a tragedy of epic proportions!\"\n",
    "As Holmes and Watson pieced together the conflicting accounts and enigmatic clues, they uncovered a tangled history of jealousy, ambition, and dark secrets. They learned of Madame Beaumont's humble beginnings, her meteoric rise to fame, and the enemies she'd made along the way.\n",
    "A breakthrough came when they discovered a series of threatening letters in Madame Beaumont's personal effects, each signed with a distinctive symbol – a mask bisected by a musical staff. The handwriting analysis proved inconclusive, matching partially with several suspects.\n",
    "On the eve of what would have been opening night, Holmes gathered all the suspects in the Opera's grand foyer. The tension was palpable as he began to speak.\n",
    "\"Ladies and gentlemen, I thank you for your patience these past days. The death of Madame Beaumont was no mere tragedy, but a carefully orchestrated murder – one born of obsession, jealousy, and a twisted sense of artistry.\"\n",
    "Holmes paced the room, his eyes moving from one face to another. \"At first glance, this appeared to be the work of a phantom – a mysterious figure lurking in the shadows of the Opera. Indeed, that is what the killer wanted us to believe. But the truth, as always, lies in the details.\"\n",
    "He produced the bottle of belladonna drops. \"These eye drops, commonly used by performers, were laced with a potent South American poison. A poison that would have taken hours to take effect, allowing our killer to establish an alibi.\"\n",
    "Gasps and murmurs rippled through the assembled crowd.\n",
    "\"The mask and scarf?\" Holmes continued, \"Mere misdirection, designed to evoke the phantoms of fiction. But our killer was all too real, and present in this very room.\"\n",
    "He turned suddenly, fixing his gaze on one individual. \"The culprit is none other than Maurice Devereaux!\"\n",
    "The artistic director's face drained of color. \"This... this is preposterous! I loved Adeline!\"\n",
    "\"Indeed you did,\" Holmes said gravely. \"Your love, however, was not reciprocated. You were the phantom, Monsieur Devereaux, but not of this opera – of Adeline's past.\"\n",
    "Holmes went on to explain how Devereaux had known Adeline in her youth, before her rise to fame. He had been a struggling composer then, believing Adeline to be his muse, his ticket to greatness. But she had left him behind, soaring to heights he could only dream of.\n",
    "\"You followed her career obsessively, didn't you? Clipping every review, attending every performance. You even managed to secure a position as artistic director, all to be close to her. But it wasn't enough. She didn't remember you, did she?\"\n",
    "Devereaux's composure cracked. \"She was ungrateful! I made her what she was! Without me, she would have been nothing!\"\n",
    "Holmes nodded solemnly. \"So you decided to immortalize her – to turn her into the phantom that had haunted you all these years. The poison in her eye drops, the mask, the hidden room in the basement... all part of your grand opus.\"\n",
    "As Lestrade moved to apprehend Devereaux, Holmes turned to the astonished gathering. \"The rest of you played your parts unwittingly. Your conflicts, your ambitions, your secrets – all woven into Devereaux's narrative to obscure the truth.\"\n",
    "In the days that followed, as Devereaux confessed to his crimes, the full scope of his deception came to light. He had manipulated events behind the scenes for years, stoking rivalries and nurturing obsessions, all building to his tragic finale.\n",
    "As Holmes and Watson left the Opera House for the last time, the doctor couldn't help but marvel at the complexity of the case. \"I must say, Holmes, I'm still astounded by how you pieced it all together.\"\n",
    "Holmes lit his pipe, a thoughtful expression on his face. \"In the end, Watson, it was the music that gave him away. For in his attempt to compose the perfect tragedy, Devereaux forgot the most important rule of opera – the show must go on.\"\n",
    "\"\"\"\n",
    "SUSPECTS = [\n",
    "    \"Maurice Devereaux\",\n",
    "    \"Erik Blackwood\",\n",
    "    \"Vivian Rousseau\",\n",
    "    \"Greta Müller\",\n",
    "    \"Lucien Moreau\",\n",
    "    \"Isabelle Chen\",\n",
    "    \"Dr. Nathaniel Price\",\n",
    "    \"Lady Eleanor Ashworth\",\n",
    "    \"Professor James Moriarty\",\n",
    "    \"Inspector Lestrade\",\n",
    "    \"Madame Adeline Beaumont\",\n",
    "    \"Various Opera House staff and performers\"\n",
    "]\n",
    "CULPRIT = \"Maurice Devereaux\""
   ]
  },
  {
   "cell_type": "code",
   "execution_count": 13,
   "metadata": {},
   "outputs": [
    {
     "name": "stdout",
     "output_type": "stream",
     "text": [
      "t is none other than\n",
      " Dr. Edwin Blackwood\n"
     ]
    }
   ],
   "source": [
    "def find_reveal_index(story):\n",
    "    reveal_phrase = \"The culprit is none other than \"\n",
    "    index = story.find(reveal_phrase)\n",
    "\n",
    "    if index == -1:\n",
    "        return None  # Phrase not found\n",
    "\n",
    "    # Return the index of the space after \"than\"\n",
    "    return index + len(reveal_phrase) - 1\n",
    "\n",
    "REVEAL_INDEX = find_reveal_index(MYSTERY)\n",
    "print(MYSTERY[REVEAL_INDEX-20:REVEAL_INDEX])\n",
    "print(MYSTERY[REVEAL_INDEX:REVEAL_INDEX + 20])\n"
   ]
  },
  {
   "attachments": {},
   "cell_type": "markdown",
   "metadata": {},
   "source": [
    "### Add story"
   ]
  },
  {
   "cell_type": "code",
   "execution_count": 14,
   "metadata": {},
   "outputs": [
    {
     "name": "stdout",
     "output_type": "stream",
     "text": [
      "Mystery 'The Enigma of the Fractured Timepiece' has been saved successfully in the hard directory.\n"
     ]
    }
   ],
   "source": [
    "from src.create_json import create_mystery_json\n",
    "create_mystery_json(TITLE, DIFFICULTY, MYSTERY, SUSPECTS, CULPRIT, REVEAL_INDEX)"
   ]
  },
  {
   "cell_type": "code",
   "execution_count": null,
   "metadata": {},
   "outputs": [],
   "source": []
  }
 ],
 "metadata": {
  "kernelspec": {
   "display_name": "Python 3",
   "language": "python",
   "name": "python3"
  },
  "language_info": {
   "codemirror_mode": {
    "name": "ipython",
    "version": 3
   },
   "file_extension": ".py",
   "mimetype": "text/x-python",
   "name": "python",
   "nbconvert_exporter": "python",
   "pygments_lexer": "ipython3",
   "version": "3.10.12"
  },
  "orig_nbformat": 4,
  "vscode": {
   "interpreter": {
    "hash": "916dbcbb3f70747c44a77c7bcd40155683ae19c65e1c03b4aa3499c5328201f1"
   }
  }
 },
 "nbformat": 4,
 "nbformat_minor": 2
}
